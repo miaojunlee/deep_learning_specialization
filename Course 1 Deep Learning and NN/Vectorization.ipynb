{
 "cells": [
  {
   "cell_type": "markdown",
   "metadata": {},
   "source": [
    "### Vectorization"
   ]
  },
  {
   "cell_type": "code",
   "execution_count": 1,
   "metadata": {
    "collapsed": true
   },
   "outputs": [],
   "source": [
    "import numpy as np\n",
    "import pandas as pd"
   ]
  },
  {
   "cell_type": "code",
   "execution_count": 11,
   "metadata": {
    "collapsed": true
   },
   "outputs": [],
   "source": [
    "import catboost"
   ]
  },
  {
   "cell_type": "code",
   "execution_count": 12,
   "metadata": {},
   "outputs": [
    {
     "name": "stdout",
     "output_type": "stream",
     "text": [
      "0.9.1.1\n"
     ]
    }
   ],
   "source": [
    "print(catboost.__version__)"
   ]
  },
  {
   "cell_type": "markdown",
   "metadata": {},
   "source": [
    "##### numpy.random.rand: Create an array of the given shape and propagate it with random samples from a uniform distribution over [0, 1). The dimensions of the returned array, should all be positive. If no argument is given a single Python float is returned."
   ]
  },
  {
   "cell_type": "code",
   "execution_count": 15,
   "metadata": {},
   "outputs": [
    {
     "name": "stdout",
     "output_type": "stream",
     "text": [
      "[[4.17022005e-01]\n",
      " [7.20324493e-01]\n",
      " [1.14374817e-04]]\n"
     ]
    }
   ],
   "source": [
    "np.random.seed(1)\n",
    "t = np.random.rand(3,1)\n",
    "print(t)"
   ]
  },
  {
   "cell_type": "code",
   "execution_count": 18,
   "metadata": {},
   "outputs": [
    {
     "name": "stdout",
     "output_type": "stream",
     "text": [
      "[[-1.01701414]\n",
      " [ 0.63736181]\n",
      " [-0.85990661]]\n"
     ]
    }
   ],
   "source": [
    "x = np.random.randn(3,1)\n",
    "print(x)"
   ]
  },
  {
   "cell_type": "markdown",
   "metadata": {},
   "source": [
    "##### np.random.randn return a sample (or samples) from the “standard normal” distribution."
   ]
  },
  {
   "cell_type": "code",
   "execution_count": 23,
   "metadata": {},
   "outputs": [
    {
     "name": "stdout",
     "output_type": "stream",
     "text": [
      "[[ 0.56434487 -0.56651023  0.7299756 ]]\n"
     ]
    }
   ],
   "source": [
    "w = np.random.randn(1,3)\n",
    "print(w)"
   ]
  },
  {
   "cell_type": "code",
   "execution_count": 10,
   "metadata": {},
   "outputs": [
    {
     "name": "stdout",
     "output_type": "stream",
     "text": [
      "(3, 1)\n",
      "(1, 3)\n"
     ]
    }
   ],
   "source": [
    "w = np.random.randn(3,1)\n",
    "print(w.shape)\n",
    "print(w.T.shape)"
   ]
  },
  {
   "cell_type": "code",
   "execution_count": 12,
   "metadata": {},
   "outputs": [
    {
     "name": "stdout",
     "output_type": "stream",
     "text": [
      "(3, 1) (1, 3)\n",
      "[[-2.66629738]]\n"
     ]
    }
   ],
   "source": [
    "x = np.array([[-1.01701414],\n",
    " [ 0.63736181],\n",
    " [-0.85990661]])\n",
    "\n",
    "# w = np.random.randn(1,3)\n",
    "w = np.array([[ 1.77260763, -1.11036305,  0.18121427]])\n",
    "print(x.shape, w.shape)\n",
    "result_matmul = np.matmul(w, x)\n",
    "print(result_matmul)"
   ]
  },
  {
   "cell_type": "code",
   "execution_count": 28,
   "metadata": {},
   "outputs": [
    {
     "data": {
      "text/plain": [
       "array([[-2.66629738]])"
      ]
     },
     "execution_count": 28,
     "metadata": {},
     "output_type": "execute_result"
    }
   ],
   "source": [
    "np.dot(w,x)"
   ]
  },
  {
   "cell_type": "markdown",
   "metadata": {},
   "source": [
    "##### numpy.dot() This function returns the dot product of two arrays. For 2-D vectors, it is the equivalent to matrix multiplication. For 1-D arrays, it is the inner product of the vectors. np.matmul produces the same output. "
   ]
  },
  {
   "cell_type": "code",
   "execution_count": 7,
   "metadata": {},
   "outputs": [
    {
     "name": "stdout",
     "output_type": "stream",
     "text": [
      "[[-2.66629738]]\n"
     ]
    }
   ],
   "source": [
    "z = np.dot(w,x)\n",
    "print(z)"
   ]
  },
  {
   "cell_type": "code",
   "execution_count": 9,
   "metadata": {},
   "outputs": [
    {
     "ename": "ValueError",
     "evalue": "shapes (3,1) and (3,1) not aligned: 1 (dim 1) != 3 (dim 0)",
     "output_type": "error",
     "traceback": [
      "\u001b[1;31m---------------------------------------------------------------------------\u001b[0m",
      "\u001b[1;31mValueError\u001b[0m                                Traceback (most recent call last)",
      "\u001b[1;32m<ipython-input-9-348f72ffaaf0>\u001b[0m in \u001b[0;36m<module>\u001b[1;34m()\u001b[0m\n\u001b[1;32m----> 1\u001b[1;33m \u001b[0mz\u001b[0m \u001b[1;33m=\u001b[0m \u001b[0mnp\u001b[0m\u001b[1;33m.\u001b[0m\u001b[0mdot\u001b[0m\u001b[1;33m(\u001b[0m\u001b[0mw\u001b[0m\u001b[1;33m.\u001b[0m\u001b[0mT\u001b[0m\u001b[1;33m,\u001b[0m\u001b[0mx\u001b[0m\u001b[1;33m)\u001b[0m\u001b[1;33m\u001b[0m\u001b[0m\n\u001b[0m\u001b[0;32m      2\u001b[0m \u001b[0mprint\u001b[0m\u001b[1;33m(\u001b[0m\u001b[0mz\u001b[0m\u001b[1;33m)\u001b[0m\u001b[1;33m\u001b[0m\u001b[0m\n",
      "\u001b[1;31mValueError\u001b[0m: shapes (3,1) and (3,1) not aligned: 1 (dim 1) != 3 (dim 0)"
     ]
    }
   ],
   "source": [
    "# For matrix mutiplication, the shape must be aligned \n",
    "z = np.dot(w.T,x)\n",
    "print(z)"
   ]
  },
  {
   "cell_type": "markdown",
   "metadata": {},
   "source": [
    "##### numpy.multiply returns element-wise multiplication"
   ]
  },
  {
   "cell_type": "code",
   "execution_count": 13,
   "metadata": {},
   "outputs": [
    {
     "name": "stdout",
     "output_type": "stream",
     "text": [
      "[[-0.44540123]\n",
      " [-0.23062995]\n",
      " [-0.66449726]]\n",
      "[[ 0.6395342  -0.29798608  0.83942743]]\n",
      "[[-0.28484932  0.13272337 -0.37388201]\n",
      " [-0.14749574  0.06872451 -0.19359711]\n",
      " [-0.42496872  0.19801093 -0.55779723]]\n"
     ]
    }
   ],
   "source": [
    "# np.multiply can create an outer product \n",
    "x = np.random.randn(3,1)\n",
    "w = np.random.randn(1,3)\n",
    "print(x)\n",
    "print(w)\n",
    "z = np.multiply(w, x)\n",
    "# z2 = np.matmul(w, x)\n",
    "print(z)\n",
    "# print(z2)"
   ]
  },
  {
   "cell_type": "code",
   "execution_count": 15,
   "metadata": {},
   "outputs": [
    {
     "name": "stdout",
     "output_type": "stream",
     "text": [
      "[[-0.28484932 -0.14749574 -0.42496872]\n",
      " [ 0.13272337  0.06872451  0.19801093]\n",
      " [-0.37388201 -0.19359711 -0.55779723]]\n"
     ]
    }
   ],
   "source": [
    "z2 = np.outer(w,x)\n",
    "print(z2)"
   ]
  },
  {
   "cell_type": "code",
   "execution_count": 64,
   "metadata": {},
   "outputs": [
    {
     "name": "stdout",
     "output_type": "stream",
     "text": [
      "x [[-0.30817074]\n",
      " [ 0.36583834]\n",
      " [ 1.60750704]]\n",
      "w [[-0.23817737]\n",
      " [-0.34082828]\n",
      " [ 0.48759421]]\n",
      "z [[ 0.0733993 ]\n",
      " [-0.12468805]\n",
      " [ 0.78381112]]\n"
     ]
    }
   ],
   "source": [
    "x = np.random.randn(3,1)\n",
    "w = np.random.randn(3,1)\n",
    "print('x', x)\n",
    "print('w', w)\n",
    "z = np.multiply(w, x)\n",
    "# z2 = np.matmul(w, x)\n",
    "print('z', z)\n",
    "# print(z2)"
   ]
  },
  {
   "cell_type": "code",
   "execution_count": 65,
   "metadata": {},
   "outputs": [
    {
     "name": "stdout",
     "output_type": "stream",
     "text": [
      "x [[1.73907303]\n",
      " [0.0689698 ]\n",
      " [0.47324139]]\n",
      "w [[-0.65035502]\n",
      " [-0.77910696]\n",
      " [-0.77766271]]\n"
     ]
    },
    {
     "ename": "ValueError",
     "evalue": "shapes (3,1) and (3,1) not aligned: 1 (dim 1) != 3 (dim 0)",
     "output_type": "error",
     "traceback": [
      "\u001b[1;31m---------------------------------------------------------------------------\u001b[0m",
      "\u001b[1;31mValueError\u001b[0m                                Traceback (most recent call last)",
      "\u001b[1;32m<ipython-input-65-58a6ef441a84>\u001b[0m in \u001b[0;36m<module>\u001b[1;34m()\u001b[0m\n\u001b[0;32m      3\u001b[0m \u001b[0mprint\u001b[0m\u001b[1;33m(\u001b[0m\u001b[1;34m'x'\u001b[0m\u001b[1;33m,\u001b[0m \u001b[0mx\u001b[0m\u001b[1;33m)\u001b[0m\u001b[1;33m\u001b[0m\u001b[0m\n\u001b[0;32m      4\u001b[0m \u001b[0mprint\u001b[0m\u001b[1;33m(\u001b[0m\u001b[1;34m'w'\u001b[0m\u001b[1;33m,\u001b[0m \u001b[0mw\u001b[0m\u001b[1;33m)\u001b[0m\u001b[1;33m\u001b[0m\u001b[0m\n\u001b[1;32m----> 5\u001b[1;33m \u001b[0mz\u001b[0m \u001b[1;33m=\u001b[0m \u001b[0mnp\u001b[0m\u001b[1;33m.\u001b[0m\u001b[0mmatmul\u001b[0m\u001b[1;33m(\u001b[0m\u001b[0mw\u001b[0m\u001b[1;33m,\u001b[0m \u001b[0mx\u001b[0m\u001b[1;33m)\u001b[0m\u001b[1;33m\u001b[0m\u001b[0m\n\u001b[0m\u001b[0;32m      6\u001b[0m \u001b[1;31m# z2 = np.matmul(w, x)\u001b[0m\u001b[1;33m\u001b[0m\u001b[1;33m\u001b[0m\u001b[0m\n\u001b[0;32m      7\u001b[0m \u001b[0mprint\u001b[0m\u001b[1;33m(\u001b[0m\u001b[1;34m'z'\u001b[0m\u001b[1;33m,\u001b[0m \u001b[0mz\u001b[0m\u001b[1;33m)\u001b[0m\u001b[1;33m\u001b[0m\u001b[0m\n",
      "\u001b[1;31mValueError\u001b[0m: shapes (3,1) and (3,1) not aligned: 1 (dim 1) != 3 (dim 0)"
     ]
    }
   ],
   "source": [
    "x = np.random.randn(3,1)\n",
    "w = np.random.randn(3,1)\n",
    "print('x', x)\n",
    "print('w', w)\n",
    "z = np.matmul(w, x)\n",
    "# z2 = np.matmul(w, x)\n",
    "print('z', z)\n",
    "# print(z2)"
   ]
  },
  {
   "cell_type": "code",
   "execution_count": 66,
   "metadata": {},
   "outputs": [
    {
     "name": "stdout",
     "output_type": "stream",
     "text": [
      "x [[0.6225628 ]\n",
      " [0.42756207]\n",
      " [0.0740096 ]]\n",
      "w [[-0.4531686   0.60415364  2.38520581]]\n",
      "z [[0.1527154]]\n"
     ]
    }
   ],
   "source": [
    "x = np.random.randn(3,1)\n",
    "w = np.random.randn(1,3)\n",
    "print('x', x)\n",
    "print('w', w)\n",
    "z = np.matmul(w, x)\n",
    "# z2 = np.matmul(w, x)\n",
    "print('z', z)\n",
    "# print(z2)"
   ]
  },
  {
   "cell_type": "code",
   "execution_count": 35,
   "metadata": {},
   "outputs": [
    {
     "data": {
      "text/plain": [
       "1.5581687049894266"
      ]
     },
     "execution_count": 35,
     "metadata": {},
     "output_type": "execute_result"
    }
   ],
   "source": [
    "np.sum(z)"
   ]
  },
  {
   "cell_type": "code",
   "execution_count": 2,
   "metadata": {},
   "outputs": [
    {
     "name": "stdout",
     "output_type": "stream",
     "text": [
      "[[-1.81816225 -0.20965202 -0.03282992  1.17068988]]\n",
      "[[ 1.3202     -1.01317285 -1.02271485  1.10778758]]\n"
     ]
    }
   ],
   "source": [
    "a = np.random.randn(1,4)\n",
    "Y = np.random.randn(1,4)\n",
    "print(a)\n",
    "print(Y)"
   ]
  },
  {
   "cell_type": "code",
   "execution_count": 3,
   "metadata": {},
   "outputs": [
    {
     "data": {
      "text/plain": [
       "array([[-2.4003378 ,  0.21241373,  0.03357565,  1.29687571]])"
      ]
     },
     "execution_count": 3,
     "metadata": {},
     "output_type": "execute_result"
    }
   ],
   "source": [
    "np.multiply(a, Y)"
   ]
  },
  {
   "cell_type": "code",
   "execution_count": 5,
   "metadata": {},
   "outputs": [
    {
     "data": {
      "text/plain": [
       "-0.8574727148180479"
      ]
     },
     "execution_count": 5,
     "metadata": {},
     "output_type": "execute_result"
    }
   ],
   "source": [
    "np.squeeze(np.sum(np.multiply(a, Y)))"
   ]
  },
  {
   "cell_type": "code",
   "execution_count": 10,
   "metadata": {},
   "outputs": [
    {
     "name": "stdout",
     "output_type": "stream",
     "text": [
      "[[ 0.21575967  0.08310098 -2.05476959 -3.11545857]]\n"
     ]
    }
   ],
   "source": [
    "# dZ2 = A2 - Y\n",
    "# dW2 = (1/m)*np.dot(dZ2, A1.T)\n",
    "    \n",
    "dZ2 = np.random.randn(1,10)\n",
    "A1 = np.random.randn(10,4)\n",
    "\n",
    "dW2 = np.dot(dZ2, A1)\n",
    "print(dW2)"
   ]
  },
  {
   "cell_type": "markdown",
   "metadata": {},
   "source": [
    "#### Broadcasting"
   ]
  },
  {
   "cell_type": "code",
   "execution_count": 38,
   "metadata": {},
   "outputs": [
    {
     "name": "stdout",
     "output_type": "stream",
     "text": [
      "[[0.89588622 0.42809119 0.96484005 0.6634415 ]\n",
      " [0.62169572 0.11474597 0.94948926 0.44991213]\n",
      " [0.57838961 0.4081368  0.23702698 0.90337952]]\n"
     ]
    }
   ],
   "source": [
    "A = np.random.rand(3,4)\n",
    "print(A)"
   ]
  },
  {
   "cell_type": "code",
   "execution_count": 39,
   "metadata": {},
   "outputs": [
    {
     "data": {
      "text/plain": [
       "array([2.09597155, 0.95097397, 2.15135629, 2.01673315])"
      ]
     },
     "execution_count": 39,
     "metadata": {},
     "output_type": "execute_result"
    }
   ],
   "source": [
    "cal = A.sum(axis=0)"
   ]
  },
  {
   "cell_type": "code",
   "execution_count": 40,
   "metadata": {},
   "outputs": [
    {
     "name": "stdout",
     "output_type": "stream",
     "text": [
      "[[100.89588622 100.42809119 100.96484005 100.6634415 ]\n",
      " [100.62169572 100.11474597 100.94948926 100.44991213]\n",
      " [100.57838961 100.4081368  100.23702698 100.90337952]]\n"
     ]
    }
   ],
   "source": [
    "a_100 = A + 100\n",
    "print(a_100)"
   ]
  },
  {
   "cell_type": "code",
   "execution_count": 51,
   "metadata": {},
   "outputs": [
    {
     "name": "stdout",
     "output_type": "stream",
     "text": [
      "[[100 200 300 400]]\n",
      "(3, 4)\n",
      "(1, 4)\n"
     ]
    }
   ],
   "source": [
    "b = np.array([[100, 200, 300, 400]])\n",
    "print(b)\n",
    "print(A.shape)\n",
    "print(b.shape)"
   ]
  },
  {
   "cell_type": "code",
   "execution_count": 49,
   "metadata": {},
   "outputs": [
    {
     "name": "stdout",
     "output_type": "stream",
     "text": [
      "[[100.89588622 200.42809119 300.96484005 400.6634415 ]\n",
      " [100.62169572 200.11474597 300.94948926 400.44991213]\n",
      " [100.57838961 200.4081368  300.23702698 400.90337952]]\n"
     ]
    }
   ],
   "source": [
    "c = A + b \n",
    "print(c)"
   ]
  },
  {
   "cell_type": "code",
   "execution_count": 53,
   "metadata": {},
   "outputs": [
    {
     "name": "stdout",
     "output_type": "stream",
     "text": [
      "[[ 0.07083664]\n",
      " [ 0.71758983]\n",
      " [-0.25070491]]\n",
      "[[0.89588622 0.42809119 0.96484005 0.6634415 ]\n",
      " [0.62169572 0.11474597 0.94948926 0.44991213]\n",
      " [0.57838961 0.4081368  0.23702698 0.90337952]]\n"
     ]
    }
   ],
   "source": [
    "d = np.random.randn(3,1)\n",
    "print(d)\n",
    "print(A)"
   ]
  },
  {
   "cell_type": "code",
   "execution_count": 55,
   "metadata": {},
   "outputs": [
    {
     "name": "stdout",
     "output_type": "stream",
     "text": [
      "[[ 0.96672286  0.49892783  1.03567669  0.73427814]\n",
      " [ 1.33928555  0.8323358   1.66707908  1.16750196]\n",
      " [ 0.3276847   0.15743189 -0.01367793  0.65267461]]\n"
     ]
    }
   ],
   "source": [
    "E = A + d\n",
    "print(E)"
   ]
  },
  {
   "cell_type": "code",
   "execution_count": 57,
   "metadata": {},
   "outputs": [
    {
     "name": "stdout",
     "output_type": "stream",
     "text": [
      "[[100.89588622 200.42809119 300.96484005 400.6634415 ]\n",
      " [100.62169572 200.11474597 300.94948926 400.44991213]\n",
      " [100.57838961 200.4081368  300.23702698 400.90337952]]\n"
     ]
    }
   ],
   "source": [
    "F = A + b\n",
    "print(F)"
   ]
  },
  {
   "cell_type": "code",
   "execution_count": 60,
   "metadata": {},
   "outputs": [
    {
     "name": "stdout",
     "output_type": "stream",
     "text": [
      "rank 1 array: [ 0.58192518 -0.41020752  2.2968661   1.68849705  0.62581147]\n",
      "(5,)\n"
     ]
    }
   ],
   "source": [
    "# should avoid rank 1 array\n",
    "a = np.random.randn(5)\n",
    "print('rank 1 array:', a)\n",
    "print(a.shape)"
   ]
  },
  {
   "cell_type": "code",
   "execution_count": 62,
   "metadata": {},
   "outputs": [
    {
     "name": "stdout",
     "output_type": "stream",
     "text": [
      "elementwise multiplication = [81  4 10  0  0 63 10  0  0  0 81  4 25  0  0]\n",
      " ----- Computation time = 0.0ms\n"
     ]
    }
   ],
   "source": [
    "import time\n",
    "x1 = [9, 2, 5, 0, 0, 7, 5, 0, 0, 0, 9, 2, 5, 0, 0]\n",
    "x2 = [9, 2, 2, 9, 0, 9, 2, 5, 0, 0, 9, 2, 5, 0, 0]\n",
    "\n",
    "tic = time.process_time()\n",
    "mul = np.multiply(x1,x2)\n",
    "toc = time.process_time()\n",
    "print (\"elementwise multiplication = \" + str(mul) + \"\\n ----- Computation time = \" + str(1000*(toc - tic)) + \"ms\")"
   ]
  },
  {
   "cell_type": "code",
   "execution_count": 3,
   "metadata": {},
   "outputs": [
    {
     "name": "stdout",
     "output_type": "stream",
     "text": [
      "[[ 0.3271142  -1.50259732 -0.62150583  2.35671931  1.36042912]]\n"
     ]
    }
   ],
   "source": [
    "A = np.random.randn(1,5)\n",
    "print(A)"
   ]
  },
  {
   "cell_type": "code",
   "execution_count": 5,
   "metadata": {},
   "outputs": [
    {
     "data": {
      "text/plain": [
       "-1.502597318939316"
      ]
     },
     "execution_count": 5,
     "metadata": {},
     "output_type": "execute_result"
    }
   ],
   "source": [
    "# That's how you refer to the element in the array \n",
    "A[0,1]"
   ]
  }
 ],
 "metadata": {
  "kernelspec": {
   "display_name": "Python 3",
   "language": "python",
   "name": "python3"
  },
  "language_info": {
   "codemirror_mode": {
    "name": "ipython",
    "version": 3
   },
   "file_extension": ".py",
   "mimetype": "text/x-python",
   "name": "python",
   "nbconvert_exporter": "python",
   "pygments_lexer": "ipython3",
   "version": "3.6.3"
  }
 },
 "nbformat": 4,
 "nbformat_minor": 2
}
