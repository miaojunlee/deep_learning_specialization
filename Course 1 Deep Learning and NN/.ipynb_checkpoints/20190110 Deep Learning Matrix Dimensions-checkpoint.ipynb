{
 "cells": [
  {
   "cell_type": "code",
   "execution_count": 1,
   "metadata": {},
   "outputs": [],
   "source": [
    "import numpy as np\n",
    "\n",
    "A2 = np.array([[0.50154066,  0.49899566,  0.50213783]])"
   ]
  },
  {
   "cell_type": "code",
   "execution_count": 4,
   "metadata": {},
   "outputs": [
    {
     "name": "stdout",
     "output_type": "stream",
     "text": [
      "(3,)\n"
     ]
    }
   ],
   "source": [
    "print(A2.shape)"
   ]
  },
  {
   "cell_type": "code",
   "execution_count": 18,
   "metadata": {},
   "outputs": [
    {
     "name": "stdout",
     "output_type": "stream",
     "text": [
      "[[0.3654565 ]\n",
      " [0.23597414]]\n",
      "[[ 0.53861827]\n",
      " [-0.69457073]\n",
      " [ 1.93136463]]\n",
      "(3, 2)\n",
      "(2, 1)\n",
      "[[ 0.3805446 ]\n",
      " [ 0.01023122]\n",
      " [-0.81042852]]\n",
      "(3, 1)\n"
     ]
    }
   ],
   "source": [
    "# generate two features\n",
    "x = np.random.randn(2,1)\n",
    "print(x)\n",
    "\n",
    "# generates weight for the two features\n",
    "W1 = np.random.randn(3,2)\n",
    "print(A1)\n",
    "\n",
    "# creates a hidden unit with 3 neurons \n",
    "Z1 = np.dot(W1, x)\n",
    "print(W1.shape)\n",
    "print(x.shape)\n",
    "print(Z1.shape)"
   ]
  },
  {
   "cell_type": "code",
   "execution_count": 19,
   "metadata": {
    "collapsed": true
   },
   "outputs": [],
   "source": [
    " layer_dims = [4,3,2,1]"
   ]
  },
  {
   "cell_type": "code",
   "execution_count": 20,
   "metadata": {},
   "outputs": [
    {
     "name": "stdout",
     "output_type": "stream",
     "text": [
      "4\n"
     ]
    }
   ],
   "source": [
    "print(len(layer_dims))"
   ]
  },
  {
   "cell_type": "code",
   "execution_count": null,
   "metadata": {
    "collapsed": true
   },
   "outputs": [],
   "source": [
    "for(i in range(1, len(layer_dims))):\n",
    "  parameter[‘W’ + str(i)] = np.random.randn(layers[i], layers[i-1])) * 0.01\n",
    "  parameter[‘b’ + str(i)] = np.random.randn(layers[i], 1) * 0.01"
   ]
  }
 ],
 "metadata": {
  "kernelspec": {
   "display_name": "Python 3",
   "language": "python",
   "name": "python3"
  },
  "language_info": {
   "codemirror_mode": {
    "name": "ipython",
    "version": 3
   },
   "file_extension": ".py",
   "mimetype": "text/x-python",
   "name": "python",
   "nbconvert_exporter": "python",
   "pygments_lexer": "ipython3",
   "version": "3.7.4"
  }
 },
 "nbformat": 4,
 "nbformat_minor": 2
}
