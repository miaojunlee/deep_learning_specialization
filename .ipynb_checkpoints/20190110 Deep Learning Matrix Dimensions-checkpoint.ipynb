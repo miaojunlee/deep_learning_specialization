{
 "cells": [
  {
   "cell_type": "code",
   "execution_count": 7,
   "metadata": {},
   "outputs": [
    {
     "ename": "SyntaxError",
     "evalue": "invalid syntax (<ipython-input-7-400d547f0d52>, line 3)",
     "output_type": "error",
     "traceback": [
      "\u001b[1;36m  File \u001b[1;32m\"<ipython-input-7-400d547f0d52>\"\u001b[1;36m, line \u001b[1;32m3\u001b[0m\n\u001b[1;33m    A2 = np.array([[0.50154066  0.49899566  0.50213783]])\u001b[0m\n\u001b[1;37m                                         ^\u001b[0m\n\u001b[1;31mSyntaxError\u001b[0m\u001b[1;31m:\u001b[0m invalid syntax\n"
     ]
    }
   ],
   "source": [
    "import numpy as np\n",
    "\n",
    "A2 = np.array([[0.50154066  0.49899566  0.50213783]])"
   ]
  },
  {
   "cell_type": "code",
   "execution_count": 4,
   "metadata": {},
   "outputs": [
    {
     "name": "stdout",
     "output_type": "stream",
     "text": [
      "(3,)\n"
     ]
    }
   ],
   "source": [
    "print(A2.shape)"
   ]
  },
  {
   "cell_type": "code",
   "execution_count": 18,
   "metadata": {},
   "outputs": [
    {
     "name": "stdout",
     "output_type": "stream",
     "text": [
      "[[0.3654565 ]\n",
      " [0.23597414]]\n",
      "[[ 0.53861827]\n",
      " [-0.69457073]\n",
      " [ 1.93136463]]\n",
      "(3, 2)\n",
      "(2, 1)\n",
      "[[ 0.3805446 ]\n",
      " [ 0.01023122]\n",
      " [-0.81042852]]\n",
      "(3, 1)\n"
     ]
    }
   ],
   "source": [
    "# generate two features\n",
    "x = np.random.randn(2,1)\n",
    "print(x)\n",
    "\n",
    "# generates weight for the two features\n",
    "W1 = np.random.randn(3,2)\n",
    "print(A1)\n",
    "\n",
    "# creates a hidden unit with 3 neurons \n",
    "Z1 = np.dot(W1, x)\n",
    "print(W1.shape)\n",
    "print(x.shape)\n",
    "print(Z1.shape)"
   ]
  }
 ],
 "metadata": {
  "kernelspec": {
   "display_name": "Python 3",
   "language": "python",
   "name": "python3"
  },
  "language_info": {
   "codemirror_mode": {
    "name": "ipython",
    "version": 3
   },
   "file_extension": ".py",
   "mimetype": "text/x-python",
   "name": "python",
   "nbconvert_exporter": "python",
   "pygments_lexer": "ipython3",
   "version": "3.6.3"
  }
 },
 "nbformat": 4,
 "nbformat_minor": 2
}
